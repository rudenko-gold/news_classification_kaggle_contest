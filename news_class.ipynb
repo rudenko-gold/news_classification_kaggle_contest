{
  "nbformat": 4,
  "nbformat_minor": 0,
  "metadata": {
    "colab": {
      "name": "news_class.ipynb",
      "provenance": [],
      "collapsed_sections": []
    },
    "kernelspec": {
      "name": "python3",
      "display_name": "Python 3"
    },
    "language_info": {
      "name": "python"
    }
  },
  "cells": [
    {
      "cell_type": "code",
      "metadata": {
        "id": "JPz-TADFG9v9"
      },
      "source": [
        "! pip install simpletransformers\n",
        "import pandas as pd\n",
        "import numpy as np\n",
        "\n",
        "from google.colab import drive\n",
        "\n",
        "from sklearn.metrics import f1_score\n",
        "from simpletransformers.classification import ClassificationModel\n",
        "from sklearn.model_selection import train_test_split\n"
      ],
      "execution_count": null,
      "outputs": []
    },
    {
      "cell_type": "code",
      "metadata": {
        "id": "QHNVARQHGyS2"
      },
      "source": [
        "drive.mount(\"/content/drive\", force_remount=True)"
      ],
      "execution_count": null,
      "outputs": []
    },
    {
      "cell_type": "code",
      "metadata": {
        "id": "FQXIPhEI_WDn"
      },
      "source": [
        "!ls \"/content/drive/MyDrive/AdvancedContest\""
      ],
      "execution_count": null,
      "outputs": []
    },
    {
      "cell_type": "code",
      "metadata": {
        "id": "rJcWjSN-9f_7"
      },
      "source": [
        "df = pd.read_csv('/content/drive/MyDrive/AdvancedContest/train.csv')"
      ],
      "execution_count": null,
      "outputs": []
    },
    {
      "cell_type": "code",
      "metadata": {
        "id": "2l1EPUEwG727"
      },
      "source": [
        "args = {\n",
        "              \"reprocess_input_data\": True,\n",
        "              \"fp16\": False,\n",
        "              \"num_train_epochs\": 4,\n",
        "              \"max_seq_length\": 512\n",
        "}\n",
        "\n",
        "model = ClassificationModel(\n",
        "    'roberta', 'youscan/ukr-roberta-base',\n",
        "    num_labels = 7,\n",
        "    args = args,\n",
        "    use_cuda = False\n",
        ")"
      ],
      "execution_count": null,
      "outputs": []
    },
    {
      "cell_type": "code",
      "metadata": {
        "id": "4ua--g5jHPP8"
      },
      "source": [
        "df = df[['text', 'source']]"
      ],
      "execution_count": null,
      "outputs": []
    },
    {
      "cell_type": "code",
      "metadata": {
        "id": "3Fq8JlCTHWC0"
      },
      "source": [
        "train, test = train_test_split(df, test_size = 0.2, random_state = 37)"
      ],
      "execution_count": null,
      "outputs": []
    },
    {
      "cell_type": "code",
      "metadata": {
        "id": "N4XXv52SHLX8"
      },
      "source": [
        "model.train_model(train)"
      ],
      "execution_count": null,
      "outputs": []
    },
    {
      "cell_type": "code",
      "metadata": {
        "id": "uNuho09RH_E8"
      },
      "source": [
        "score, output, error = model.eval_model(test)"
      ],
      "execution_count": null,
      "outputs": []
    },
    {
      "cell_type": "code",
      "metadata": {
        "id": "ZWKy7hb7II7_"
      },
      "source": [
        "score"
      ],
      "execution_count": null,
      "outputs": []
    },
    {
      "cell_type": "code",
      "metadata": {
        "id": "iBBKx8D6HaJd"
      },
      "source": [
        "f1_score(test['source'], [np.argmax(v) for v in output], average = 'macro')"
      ],
      "execution_count": null,
      "outputs": []
    },
    {
      "cell_type": "code",
      "metadata": {
        "id": "tDWgCAL9-xYZ"
      },
      "source": [
        "test = pd.read_csv('/content/drive/My Drive/AdvancedContest/test_without_target.csv')"
      ],
      "execution_count": null,
      "outputs": []
    },
    {
      "cell_type": "code",
      "metadata": {
        "id": "i8tFFPkkELtm"
      },
      "source": [
        "prediction = model.predict(test['text'].to_list())"
      ],
      "execution_count": null,
      "outputs": []
    },
    {
      "cell_type": "code",
      "metadata": {
        "id": "lAL-LmkrEL8M"
      },
      "source": [
        "result = pd.DataFrame({ 'Id': test['Id'], 'Predicted': prediction[0] })"
      ],
      "execution_count": null,
      "outputs": []
    },
    {
      "cell_type": "code",
      "metadata": {
        "id": "T9ggPRtYEMMv"
      },
      "source": [
        "result.to_csv('result.csv', index = False)"
      ],
      "execution_count": null,
      "outputs": []
    }
  ]
}